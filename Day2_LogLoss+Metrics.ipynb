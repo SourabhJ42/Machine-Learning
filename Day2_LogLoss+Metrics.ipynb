{
 "cells": [
  {
   "cell_type": "code",
   "execution_count": 2,
   "id": "f1bd3f06",
   "metadata": {},
   "outputs": [],
   "source": [
    "import os\n",
    "os.chdir(r'E:\\PML\\Datasets-20230112T094652Z-001\\Datasets')\n",
    "import pandas as pd\n",
    "import matplotlib.pyplot as plt\n",
    "from sklearn.metrics import log_loss"
   ]
  },
  {
   "attachments": {
    "90149Capture0.png": {
     "image/png": "[encoded data removed]"
    }
   },
   "cell_type": "markdown",
   "id": "93344359",
   "metadata": {},
   "source": [
    "**Log Loss** is the most important classification metric based on probabilities. It’s hard to interpret raw log-loss values, but log-loss is still a good metric for comparing models. For any given problem, a lower log loss value means better predictions\n",
    "\n",
    "![90149Capture0.png](attachment:90149Capture0.png)"
   ]
  },
  {
   "cell_type": "code",
   "execution_count": 10,
   "id": "56d24dc0",
   "metadata": {},
   "outputs": [
    {
     "data": {
      "text/html": [
       "<div>\n",
       "<style scoped>\n",
       "    .dataframe tbody tr th:only-of-type {\n",
       "        vertical-align: middle;\n",
       "    }\n",
       "\n",
       "    .dataframe tbody tr th {\n",
       "        vertical-align: top;\n",
       "    }\n",
       "\n",
       "    .dataframe thead th {\n",
       "        text-align: right;\n",
       "    }\n",
       "</style>\n",
       "<table border=\"1\" class=\"dataframe\">\n",
       "  <thead>\n",
       "    <tr style=\"text-align: right;\">\n",
       "      <th></th>\n",
       "      <th>y_test</th>\n",
       "      <th>yprob_1</th>\n",
       "      <th>yprob_2</th>\n",
       "    </tr>\n",
       "  </thead>\n",
       "  <tbody>\n",
       "    <tr>\n",
       "      <th>0</th>\n",
       "      <td>1</td>\n",
       "      <td>0.6</td>\n",
       "      <td>0.70</td>\n",
       "    </tr>\n",
       "    <tr>\n",
       "      <th>1</th>\n",
       "      <td>1</td>\n",
       "      <td>0.4</td>\n",
       "      <td>0.45</td>\n",
       "    </tr>\n",
       "    <tr>\n",
       "      <th>2</th>\n",
       "      <td>0</td>\n",
       "      <td>0.8</td>\n",
       "      <td>0.90</td>\n",
       "    </tr>\n",
       "    <tr>\n",
       "      <th>3</th>\n",
       "      <td>0</td>\n",
       "      <td>0.2</td>\n",
       "      <td>0.20</td>\n",
       "    </tr>\n",
       "    <tr>\n",
       "      <th>4</th>\n",
       "      <td>0</td>\n",
       "      <td>0.3</td>\n",
       "      <td>0.15</td>\n",
       "    </tr>\n",
       "  </tbody>\n",
       "</table>\n",
       "</div>"
      ],
      "text/plain": [
       "   y_test  yprob_1  yprob_2\n",
       "0       1      0.6     0.70\n",
       "1       1      0.4     0.45\n",
       "2       0      0.8     0.90\n",
       "3       0      0.2     0.20\n",
       "4       0      0.3     0.15"
      ]
     },
     "execution_count": 10,
     "metadata": {},
     "output_type": "execute_result"
    }
   ],
   "source": [
    "df=pd.read_csv('comp_prob.csv')\n",
    "df.head()"
   ]
  },
  {
   "cell_type": "markdown",
   "id": "f5d69e68",
   "metadata": {},
   "source": [
    "Using scikit's metrics library wecan use the log_loss function to calculate the log loss value of our columns"
   ]
  },
  {
   "cell_type": "code",
   "execution_count": 5,
   "id": "5f5650b9",
   "metadata": {},
   "outputs": [
    {
     "name": "stdout",
     "output_type": "stream",
     "text": [
      "0.6960811811170735\n"
     ]
    }
   ],
   "source": [
    "print(log_loss(df['y_test'],df['yprob_1']))"
   ]
  },
  {
   "cell_type": "code",
   "execution_count": 9,
   "id": "8fd9ef75",
   "metadata": {},
   "outputs": [
    {
     "name": "stdout",
     "output_type": "stream",
     "text": [
      "0.6052889328967097\n"
     ]
    }
   ],
   "source": [
    "print(log_loss(df['y_test'],df['yprob_2']))"
   ]
  },
  {
   "cell_type": "markdown",
   "id": "b5341828",
   "metadata": {},
   "source": [
    "***"
   ]
  },
  {
   "cell_type": "markdown",
   "id": "1e355a8f",
   "metadata": {},
   "source": [
    "# NUMERIC / CONTINUOUS RESPONSE #"
   ]
  },
  {
   "cell_type": "markdown",
   "id": "f93dfd63",
   "metadata": {},
   "source": [
    "For Numeric or continuous respons variables we have the following measures :\n",
    "\n",
    "- Mean Absolute Error\n",
    "- Mean Squared Error\n",
    "- R^2^"
   ]
  },
  {
   "cell_type": "code",
   "execution_count": 13,
   "id": "85db2a34",
   "metadata": {},
   "outputs": [],
   "source": [
    "import numpy as np"
   ]
  },
  {
   "cell_type": "code",
   "execution_count": 44,
   "id": "a9a34603",
   "metadata": {},
   "outputs": [],
   "source": [
    "from sklearn.metrics import mean_absolute_error\n",
    "from sklearn.metrics import mean_squared_error\n",
    "from sklearn.metrics import r2_score"
   ]
  },
  {
   "cell_type": "code",
   "execution_count": 16,
   "id": "3db973b2",
   "metadata": {},
   "outputs": [],
   "source": [
    "y_test=np.array([14,18,92,43])"
   ]
  },
  {
   "cell_type": "code",
   "execution_count": 17,
   "id": "100e147d",
   "metadata": {},
   "outputs": [],
   "source": [
    "y_pred=np.array([13.4,20.9,100.1,40.3])"
   ]
  },
  {
   "cell_type": "code",
   "execution_count": 22,
   "id": "b78086b8",
   "metadata": {},
   "outputs": [
    {
     "data": {
      "text/plain": [
       "array([ 0.6, -2.9, -8.1,  2.7])"
      ]
     },
     "execution_count": 22,
     "metadata": {},
     "output_type": "execute_result"
    }
   ],
   "source": [
    "pred_err=y_test-y_pred\n",
    "pred_err"
   ]
  },
  {
   "cell_type": "markdown",
   "id": "d4ff0f79",
   "metadata": {},
   "source": [
    "\n",
    "### *Mean Absolute Error* ###"
   ]
  },
  {
   "attachments": {
    "mean-absolute-error.png": {
     "image/png": "[encoded data removed]"
    }
   },
   "cell_type": "markdown",
   "id": "7e82f073",
   "metadata": {},
   "source": [
    "In statistics, mean absolute error (MAE) is a measure of errors between paired observations expressing the same phenomenon.\n",
    "Examples of Y versus X include comparisons of predicted versus observed, subsequent time versus initial time,\n",
    "and one technique of measurement versus an alternative technique of measurement. MAE is calculated as the sum of absolute errors divided by the sample size\n",
    "\n",
    "\n",
    "![mean-absolute-error.png](attachment:mean-absolute-error.png)"
   ]
  },
  {
   "cell_type": "code",
   "execution_count": 26,
   "id": "9b323570",
   "metadata": {},
   "outputs": [
    {
     "data": {
      "text/plain": [
       "array([0.6, 2.9, 8.1, 2.7])"
      ]
     },
     "execution_count": 26,
     "metadata": {},
     "output_type": "execute_result"
    }
   ],
   "source": [
    "pred_err_abs=abs(pred_err)\n",
    "pred_err_abs"
   ]
  },
  {
   "cell_type": "code",
   "execution_count": 35,
   "id": "9b9b4704",
   "metadata": {},
   "outputs": [
    {
     "data": {
      "text/plain": [
       "3.574999999999999"
      ]
     },
     "execution_count": 35,
     "metadata": {},
     "output_type": "execute_result"
    }
   ],
   "source": [
    "mae=np.mean(pred_err_abs)\n",
    "mae"
   ]
  },
  {
   "cell_type": "code",
   "execution_count": 45,
   "id": "15aa1d43",
   "metadata": {},
   "outputs": [
    {
     "name": "stdout",
     "output_type": "stream",
     "text": [
      "3.574999999999999\n"
     ]
    }
   ],
   "source": [
    "print(mean_absolute_error(y_test,y_pred))"
   ]
  },
  {
   "cell_type": "markdown",
   "id": "3a622aac",
   "metadata": {},
   "source": [
    "\n",
    "### *Mean Squared Error* ###"
   ]
  },
  {
   "attachments": {
    "mean_squared_error.svg": {
     "image/svg+xml": [
      "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"
     ]
    }
   },
   "cell_type": "markdown",
   "id": "60a3c956",
   "metadata": {},
   "source": [
    "In statistics, the mean squared error (MSE)or mean squared deviation (MSD) of an estimator (of a procedure for estimating an unobserved quantity) measures the average of the squares of the errors—that is, the average squared difference between the estimated values and the actual value.\n",
    "\n",
    "![mean_squared_error.svg](attachment:mean_squared_error.svg)"
   ]
  },
  {
   "cell_type": "code",
   "execution_count": null,
   "id": "36cd49d7",
   "metadata": {},
   "outputs": [],
   "source": []
  },
  {
   "cell_type": "code",
   "execution_count": 28,
   "id": "f9f8bfb2",
   "metadata": {},
   "outputs": [
    {
     "data": {
      "text/plain": [
       "array([ 0.36,  8.41, 65.61,  7.29])"
      ]
     },
     "execution_count": 28,
     "metadata": {},
     "output_type": "execute_result"
    }
   ],
   "source": [
    "squared_err=pow(pred_err_abs,2)\n",
    "squared_err"
   ]
  },
  {
   "cell_type": "code",
   "execution_count": 34,
   "id": "c77946db",
   "metadata": {},
   "outputs": [
    {
     "data": {
      "text/plain": [
       "20.417499999999983"
      ]
     },
     "execution_count": 34,
     "metadata": {},
     "output_type": "execute_result"
    }
   ],
   "source": [
    "msq=np.mean(squared_err)\n",
    "msq"
   ]
  },
  {
   "cell_type": "code",
   "execution_count": 46,
   "id": "d60fc38f",
   "metadata": {},
   "outputs": [
    {
     "name": "stdout",
     "output_type": "stream",
     "text": [
      "20.417499999999983\n"
     ]
    }
   ],
   "source": [
    "print(mean_squared_error(y_test,y_pred))"
   ]
  },
  {
   "cell_type": "markdown",
   "id": "0e2c1503",
   "metadata": {},
   "source": [
    "\n",
    "### *Root Mean Squared Error* ###"
   ]
  },
  {
   "attachments": {
    "root_mean_square_deviation.svg": {
     "image/svg+xml": [
      "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"
     ]
    }
   },
   "cell_type": "markdown",
   "id": "002e3c69",
   "metadata": {},
   "source": [
    "In statistics, the mean squared error (MSE)or mean squared deviation (MSD) of an estimator (of a procedure for estimating an unobserved quantity) measures the average of the squares of the errors—that is, the average squared difference between the estimated values and the actual value.\n",
    "\n",
    "![root_mean_square_deviation.svg](attachment:root_mean_square_deviation.svg)"
   ]
  },
  {
   "cell_type": "code",
   "execution_count": 36,
   "id": "42e0fe41",
   "metadata": {},
   "outputs": [
    {
     "data": {
      "text/plain": [
       "4.518572783523575"
      ]
     },
     "execution_count": 36,
     "metadata": {},
     "output_type": "execute_result"
    }
   ],
   "source": [
    "rmse=np.sqrt(msq)\n",
    "rmse"
   ]
  },
  {
   "cell_type": "markdown",
   "id": "da88409d",
   "metadata": {},
   "source": [
    "### *R^2* ###"
   ]
  },
  {
   "attachments": {
    "image.png": {
     "image/png": "[encoded data removed]"
    }
   },
   "cell_type": "markdown",
   "id": "e828699f",
   "metadata": {},
   "source": [
    "In statistics, the coefficient of determination, denoted R2 or r2 and pronounced \"R squared\", is the proportion of the variation in the dependent variable that is predictable from the independent variable(s).\n",
    "\n",
    "\n",
    "![image.png](attachment:image.png)"
   ]
  },
  {
   "cell_type": "code",
   "execution_count": 43,
   "id": "547d78ca",
   "metadata": {},
   "outputs": [
    {
     "data": {
      "text/plain": [
       "0.9788460791297028"
      ]
     },
     "execution_count": 43,
     "metadata": {},
     "output_type": "execute_result"
    }
   ],
   "source": [
    "1-(np.sum(squared_err)/np.sum((y_test-np.mean(y_test))**2))"
   ]
  },
  {
   "cell_type": "markdown",
   "id": "92c01fb9",
   "metadata": {},
   "source": [
    "Bigger the R^2^ number better the model, Ideal value is 1. If errors are very bad R^2 value can become negetive"
   ]
  },
  {
   "cell_type": "code",
   "execution_count": 47,
   "id": "1832caa6",
   "metadata": {},
   "outputs": [
    {
     "name": "stdout",
     "output_type": "stream",
     "text": [
      "0.9788460791297028\n"
     ]
    }
   ],
   "source": [
    "print(r2_score(y_test,y_pred))"
   ]
  }
 ],
 "metadata": {
  "kernelspec": {
   "display_name": "Python 3 (ipykernel)",
   "language": "python",
   "name": "python3"
  },
  "language_info": {
   "codemirror_mode": {
    "name": "ipython",
    "version": 3
   },
   "file_extension": ".py",
   "mimetype": "text/x-python",
   "name": "python",
   "nbconvert_exporter": "python",
   "pygments_lexer": "ipython3",
   "version": "3.9.13"
  }
 },
 "nbformat": 4,
 "nbformat_minor": 5
}
